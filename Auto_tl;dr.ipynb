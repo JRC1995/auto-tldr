{
 "cells": [
  {
   "cell_type": "markdown",
   "metadata": {},
   "source": [
    "## Extractive Summarization based on keywords extracted using RAKE\n",
    "\n",
    "This is a simple implementation of extractive summarization based on the keywords extracted by RAKE -[Rapid Automatic Keyword Extraction](https://www.researchgate.net/publication/227988510_Automatic_Keyword_Extraction_from_Individual_Documents)\n",
    "\n",
    "The implementation is inspired from http://smmry.com/about (which I recently discovered through [auto-tl;dr Reddit bot](https://www.reddit.com/user/autotldr) - which too I discovered recently at r/machine-learning). \n",
    "\n",
    "The high level description of the algorithm in http://smmry.com/about seemed pretty simple, and I wanted to try implementing it myself. After recently implemented RAKE recently, I already had codes for keyword extraction. With keyword extraction being settled, generating simplistic keyword-based extractive summarization is only a bit more work. \n",
    "\n",
    "Here's a sample summarization executed by this implementation:\n",
    "\n",
    "### ORIGINAL TEXT: \n",
    "[(Source)](https://www.reddit.com/r/autotldr/comments/31b9fm/faq_autotldr_bot/)\n",
    "\n",
    "Autotldr is a bot that uses SMMRY to create a TL;DR/summary. I will put forth points that address the effects this bot has on the reddit community.\n",
    "\n",
    "It doesn't create laziness, it only responds to it\n",
    "\n",
    "For the users who click the article link first and then return back to the comments, they will have already given their best attempt of fully reading the article. If they read it fully, the tl;dr is unneeded and ignored. If they skimmed or skipped it, the bot will be useful to at least provide more context to the discussion, like an extension of the title. A large portion of users, especially in the defaulted mainstream subreddits like /r/politics, don't even go to the article and go straight to the comments section. Most of the time, if I skip to the comments, I'm able to illicit some sort of understanding of what the article was about from the title and discussion. However this bot is able to further improve my conjectured understanding. It did not make me skip it, it only helped me when I already decided to skip it. The scenario in which this bot would create a significantly lazy atmosphere is if the tl;dr were to be presented parallel to the main submission, in the same way the OP's tl;dr is presented right next to the long body of self post. Also, the tl;dr becomes more prevalent/hidden as it will get upvoted/downvoted depending on how much of a demand there was for a tl;dr in the first place. If it becomes the top voted comment than it has become more of a competitor to the original text for those who go to the comments first, but by then the thread has decided that a tl;dr was useful and the bot delivered.\n",
    "\n",
    "It can make sophisticated topics more relevant to mainstream Reddit\n",
    "\n",
    "Sophisticated and important topics are usually accompanied or presented by long detailed articles. By making these articles and topics relevant to a larger portion of the Reddit userbase (those who weren't willing to read the full article), it popularizes the topic and increases user participation. These posts will get more attention in the form of upvotes/downvotes, comments, and reposts. This will increase the prevalence of sophisticated topics in the mainstream subreddits and compete against cliched memes. This has the potential of re-sophisticating the topic discussion in the mainstream subreddits, as more hardcore redditors don't have to retreat to a safe haven like /r/TrueReddit. This is a loose approximation and the magnitude of this effect is questionable, but I'm not surprised if the general direction of the theory is correct. I'm not claiming this would improve reddit overnight, but instead very very gradually.\n",
    "\n",
    "It decreases Reddit's dependency on external sites\n",
    "\n",
    "The bot doubles as a context provider for when a submission link goes down, is removed, or inaccessible at work/school. The next time the article you clicked gives you a 404 error, you won't have to depend on the users to provide context as the bot will have been able to provide that service at a much faster and consistent rate than a person. Additionally, an extended summary is posted in /r/autotldr, which acts as a perpetual archive and decreases how much reddit gets broken by external sites.\n",
    "\n",
    "Only useful tl;dr's are posted\n",
    "\n",
    "There are several criteria for a bot to post a tl;dr. It posts the three most important sentences as decided by the core algorithm, and they must be within 450-700 characters total. The final tl;dr must also be 70% smaller than the original, that way there is a big gap between the original and the tl;dr, hence only very long articles get posted on. This way the likelihood of someone nonchalantly declaring \"TL;DR\" in a thread and the bot posting in the same one is high. Also my strategy is to tell the bot to post in default, mainstream subreddits were the demand for a TL;DR is much higher than /r/TrueReddit and /r/worldevents.\n",
    "\n",
    "Feel free to respond to these concepts and to raise your own. Be polite, respectful, and clarify what you say. Any offending posts to this rule will be removed.\n",
    "\n",
    "\n",
    "### GENERATED SUMMARY:\n",
    "\n",
    "Autotldr is a bot that uses SMMRY to create a TL ; DR/summary.\n",
    "\n",
    "The scenario in which this bot would create a significantly lazy atmosphere is if the tl ; dr were to be presented parallel to the main submission , in the same way the OP 's tl ; dr is presented right next to the long body of self post.\n",
    "\n",
    "It can make sophisticated topics more relevant to mainstream Reddit Sophisticated and important topics are usually accompanied or presented by long detailed articles.\n",
    "\n",
    "By making these articles and topics relevant to a larger portion of the Reddit userbase ( those who were n't willing to read the full article ) , it popularizes the topic and increases user participation.\n",
    "\n",
    "This has the potential of re-sophisticating the topic discussion in the mainstream subreddits , as more hardcore redditors do n't have to retreat to a safe haven like /r/TrueReddit.\n",
    "\n",
    "It decreases Reddit 's dependency on external sites The bot doubles as a context provider for when a submission link goes down , is removed , or inaccessible at work/school.\n",
    "\n",
    "\n",
    "### Here starts the code:\n"
   ]
  },
  {
   "cell_type": "code",
   "execution_count": 1,
   "metadata": {},
   "outputs": [],
   "source": [
    "filename = 'summarytest.txt' #Enter Filename"
   ]
  },
  {
   "cell_type": "markdown",
   "metadata": {},
   "source": [
    "### Loading the data into Python variable from the file. "
   ]
  },
  {
   "cell_type": "code",
   "execution_count": 2,
   "metadata": {},
   "outputs": [],
   "source": [
    "file = open(filename,'r')\n",
    "Text = \"\"\n",
    "for line in file.readlines():\n",
    "    Text+=str(line)\n",
    "    Text+=\" \"\n",
    "file.close()"
   ]
  },
  {
   "cell_type": "markdown",
   "metadata": {},
   "source": [
    "### Removing non-printable characters from data and tokenizing the resultant test."
   ]
  },
  {
   "cell_type": "code",
   "execution_count": 3,
   "metadata": {},
   "outputs": [],
   "source": [
    "import nltk\n",
    "from nltk import word_tokenize\n",
    "import string\n",
    "\n",
    "def clean(text):\n",
    "    printable = set(string.printable)\n",
    "    text = filter(lambda x: x in printable, text) #filter funny characters, if any.\n",
    "    return text\n",
    "\n",
    "Cleaned_text = clean(Text)\n",
    "\n",
    "text = word_tokenize(Cleaned_text)\n",
    "case_insensitive_text = word_tokenize(Cleaned_text.lower())"
   ]
  },
  {
   "cell_type": "markdown",
   "metadata": {},
   "source": [
    "### Sentence Segmentation\n",
    "\n",
    "Senteces is a list of segmented sentences in the natural form with case sensitivity. This will be\n",
    "necessary for displaying the summary later on.\n",
    "\n",
    "Tokenized_sentences is a list of tokenized segmented sentences without case sensitivity. This will be\n",
    "useful for text processing later on. "
   ]
  },
  {
   "cell_type": "code",
   "execution_count": 4,
   "metadata": {},
   "outputs": [],
   "source": [
    "# Sentence Segmentation\n",
    "\n",
    "sentences = []\n",
    "tokenized_sentences = []\n",
    "sentence = \" \"\n",
    "for word in text:\n",
    "    if word != '.':\n",
    "        sentence+=str(word)+\" \"\n",
    "    else:\n",
    "        sentences.append(sentence.strip())\n",
    "        tokenized_sentences.append(word_tokenize(sentence.lower().strip()))\n",
    "        sentence = \" \""
   ]
  },
  {
   "cell_type": "markdown",
   "metadata": {},
   "source": [
    "### Lemmatization of tokenized words. "
   ]
  },
  {
   "cell_type": "code",
   "execution_count": 5,
   "metadata": {},
   "outputs": [],
   "source": [
    "from nltk.stem import WordNetLemmatizer\n",
    "\n",
    "def lemmatize(POS_tagged_text):\n",
    "    \n",
    "    wordnet_lemmatizer = WordNetLemmatizer()\n",
    "    adjective_tags = ['JJ','JJR','JJS']\n",
    "    lemmatized_text = []\n",
    "    \n",
    "    for word in POS_tagged_text:\n",
    "        if word[1] in adjective_tags:\n",
    "            lemmatized_text.append(str(wordnet_lemmatizer.lemmatize(word[0],pos=\"a\")))\n",
    "        else:\n",
    "            lemmatized_text.append(str(wordnet_lemmatizer.lemmatize(word[0]))) #default POS = noun\n",
    "    \n",
    "    return lemmatized_text\n",
    "\n",
    "#Pre_processing:\n",
    "\n",
    "POS_tagged_text = nltk.pos_tag(case_insensitive_text)\n",
    "lemmatized_text = lemmatize(POS_tagged_text)"
   ]
  },
  {
   "cell_type": "markdown",
   "metadata": {},
   "source": [
    "### POS Tagging lemmatized words\n",
    "\n",
    "This will be useful for generating stopwords. "
   ]
  },
  {
   "cell_type": "code",
   "execution_count": 6,
   "metadata": {},
   "outputs": [],
   "source": [
    "Processed_text = nltk.pos_tag(lemmatized_text)"
   ]
  },
  {
   "cell_type": "markdown",
   "metadata": {},
   "source": [
    "### Stopwords Generation\n",
    "\n",
    "Based on the assumption that typically only nouns and adjectives are qualified as parts of keyword phrases, I will include any word that aren't tagged as a noun or adjective to the list of stopwords. (Note: Gerunds can often be important keywords or components of it. But including words tagged as 'VBG' (tag for present participles and gerunds) also include verbs of present continiuous forms which should be treated as stopwords. So I am not adding 'VBG' to list of POS that should not be treated as 'stopword-POSs'. Punctuations will be added to the same list (of stopwords). Additional the long list of stopwords from https://www.ranks.nl/stopwords are also added to the list. "
   ]
  },
  {
   "cell_type": "code",
   "execution_count": 7,
   "metadata": {},
   "outputs": [],
   "source": [
    "def generate_stopwords(POS_tagged_text):\n",
    "    stopwords = []\n",
    "    \n",
    "    wanted_POS = ['NN','NNS','NNP','NNPS','JJ','JJR','JJS','FW'] #may be add VBG too\n",
    "    \n",
    "    for word in POS_tagged_text:\n",
    "        if word[1] not in wanted_POS:\n",
    "            stopwords.append(word[0])\n",
    "            \n",
    "    punctuations = list(str(string.punctuation))\n",
    "    stopwords = stopwords + punctuations\n",
    "    \n",
    "    stopword_file = open(\"long_stopwords.txt\", \"r\")\n",
    "    #Source = https://www.ranks.nl/stopwords\n",
    "\n",
    "    for line in stopword_file.readlines():\n",
    "        stopwords.append(str(line.strip()))\n",
    "\n",
    "    return set(stopwords)\n",
    "\n",
    "stopwords = generate_stopwords(Processed_text)"
   ]
  },
  {
   "cell_type": "markdown",
   "metadata": {},
   "source": [
    "### Partioning text into tokenized phrases using stopwords as delimeters.\n",
    "\n",
    "The result can be somewhat like n-gram parsing.\n",
    "All these partitioned phrases will serve as <b>candidate keywords</b>."
   ]
  },
  {
   "cell_type": "code",
   "execution_count": 8,
   "metadata": {},
   "outputs": [],
   "source": [
    "def partition_phrases(text,delimeters):\n",
    "    phrases = []\n",
    "    phrase = \" \"\n",
    "    for word in text:\n",
    "        if word in delimeters:\n",
    "            if phrase!= \" \":\n",
    "                phrases.append(str(phrase).split())\n",
    "            phrase = \" \"\n",
    "        elif word not in delimeters:\n",
    "            phrase+=str(word)\n",
    "            phrase+=\" \"\n",
    "    return phrases\n",
    "\n",
    "phrase_list = partition_phrases(lemmatized_text,stopwords)"
   ]
  },
  {
   "cell_type": "markdown",
   "metadata": {},
   "source": [
    "### Partioning each segmented tokenizedsentences into tokenized phrases using stopwords as delimeters.\n",
    "\n",
    "The tokenized segmented sentences are lemmatized before partioning.\n"
   ]
  },
  {
   "cell_type": "code",
   "execution_count": 9,
   "metadata": {},
   "outputs": [],
   "source": [
    "\n",
    "phrase_partitioned_sentences = []\n",
    "\n",
    "for sentence in tokenized_sentences:\n",
    "    POS_tagged_sentence = nltk.pos_tag(sentence)\n",
    "    lemmatized_sentence = lemmatize(POS_tagged_sentence)\n",
    "    phrase_partitioned_sentence = partition_phrases(lemmatized_sentence,stopwords)\n",
    "    phrase_partitioned_sentences.append(phrase_partitioned_sentence)"
   ]
  },
  {
   "cell_type": "markdown",
   "metadata": {},
   "source": [
    "### Scoring each words in the sum total of phrases using RAKE Algorithm\n",
    "\n",
    "See more on RAKE here: https://github.com/JRC1995/RAKE-Keyword-Extraction"
   ]
  },
  {
   "cell_type": "code",
   "execution_count": 10,
   "metadata": {},
   "outputs": [],
   "source": [
    "# keyword scoring\n",
    "\n",
    "from collections import defaultdict\n",
    "from __future__ import division\n",
    "\n",
    "frequency = defaultdict(int)\n",
    "degree = defaultdict(int)\n",
    "word_score = defaultdict(float)\n",
    "\n",
    "vocabulary = []\n",
    "\n",
    "for phrase in phrase_list:\n",
    "    for word in phrase:\n",
    "        frequency[word]+=1\n",
    "        degree[word]+=len(phrase)\n",
    "        if word not in vocabulary:\n",
    "            vocabulary.append(word)\n",
    "            \n",
    "for word in vocabulary:\n",
    "    word_score[word] = degree[word]/frequency[word]"
   ]
  },
  {
   "cell_type": "markdown",
   "metadata": {},
   "source": [
    "### Scoring each phrase (candidate keyword) using RAKE\n",
    "\n",
    "Furthermore the unique tokenized phrases are converted into a presentable format and put into the list named \n",
    "'keywords'"
   ]
  },
  {
   "cell_type": "code",
   "execution_count": 11,
   "metadata": {},
   "outputs": [],
   "source": [
    "import numpy as np\n",
    "\n",
    "phrase_scores = []\n",
    "keywords = []\n",
    "phrase_vocabulary = []\n",
    "\n",
    "for phrase in phrase_list:\n",
    "    if phrase not in phrase_vocabulary:\n",
    "        phrase_score = 0\n",
    "        for word in phrase:\n",
    "            phrase_score += word_score[word]\n",
    "        phrase_scores.append(phrase_score)\n",
    "        phrase_vocabulary.append(phrase)\n",
    "        \n",
    "        \n",
    "phrase_vocabulary = []\n",
    "\n",
    "for phrase in phrase_list:\n",
    "    if phrase not in phrase_vocabulary:\n",
    "        keyword=''\n",
    "        for word in phrase:\n",
    "            keyword += str(word)+\" \"\n",
    "        phrase_vocabulary.append(phrase)\n",
    "        keyword = keyword.strip()\n",
    "        keywords.append(keyword)"
   ]
  },
  {
   "cell_type": "markdown",
   "metadata": {},
   "source": [
    "### Ranking Keywords\n",
    "\n",
    "Keywords are ranked based on their assigned scores.\n",
    "The top keywords_num no. of highest scoring keywords are considered important; rest are ignored.\n",
    "Sorted_keywords includes the sorted list of the top keywords_num no. of highest scoring keywords.\n",
    "Tokenized_keywords contain the same keywords but in a tokenized mannner.\n"
   ]
  },
  {
   "cell_type": "code",
   "execution_count": 12,
   "metadata": {},
   "outputs": [],
   "source": [
    "sorted_index = np.flip(np.argsort(phrase_scores),0)\n",
    "\n",
    "tokenized_keywords = []\n",
    "sorted_keywords = []\n",
    "\n",
    "keywords_num = 0\n",
    "threshold = 50\n",
    "if len(keywords)<threshold:\n",
    "    keywords_num = len(keywords)\n",
    "else:\n",
    "    keywords_num = threshold\n",
    "\n",
    "for i in xrange(0,keywords_num):\n",
    "    sorted_keywords.append(keywords[sorted_index[i]])\n",
    "    tokenized_keywords.append(sorted_keywords[i].split())\n"
   ]
  },
  {
   "cell_type": "markdown",
   "metadata": {},
   "source": [
    "### Scoring Sentences\n",
    "\n",
    "Sentences are scored by adding the scores of all the keywords that are present in the sentence, \n",
    "and also in the tokenized_keywords list (which contains only the relatively important keywords)."
   ]
  },
  {
   "cell_type": "code",
   "execution_count": 13,
   "metadata": {},
   "outputs": [],
   "source": [
    "\n",
    "sentence_scores = np.zeros((len(sentences)),np.float32)\n",
    "i=0\n",
    "for sentence in phrase_partitioned_sentences:\n",
    "    for phrase in sentence:\n",
    "        if phrase in tokenized_keywords:\n",
    "            \n",
    "            matched_tokenized_keyword_index = tokenized_keywords.index(phrase)\n",
    "            \n",
    "            corresponding_sorted_keyword = sorted_keywords[matched_tokenized_keyword_index]\n",
    "            \n",
    "            keyword_index_where_the_sorted_keyword_is_present = keywords.index(corresponding_sorted_keyword)\n",
    "            \n",
    "            sentence_scores[i]+=phrase_scores[keyword_index_where_the_sorted_keyword_is_present]\n",
    "    i+=1\n"
   ]
  },
  {
   "cell_type": "markdown",
   "metadata": {},
   "source": [
    "### Summary Generation\n",
    "\n",
    "Given some hyperparameters the program computes the summary_size.\n",
    "Sentences are then ranked in accordance to their corresponding scores. More precisely, the indices of the sentences are sorted based on the scores of their corresponding sentences. Based on size of the summary, indices of top 'summary_size' no. of highest scoring input sentences are chosen for generating the summary.\n",
    "Summary is then generated by presenting the sentences (whose indices were chosen) in a chronological order.\n",
    "\n",
    "Note: I hardcoded the selection of the first statement (if the summary_size is computed to be more than 1) \n",
    "because the first sentence can usually serve as an introduction, and provide some context to the topic. "
   ]
  },
  {
   "cell_type": "code",
   "execution_count": 14,
   "metadata": {},
   "outputs": [
    {
     "name": "stdout",
     "output_type": "stream",
     "text": [
      "\n",
      "SUMMARY: \n",
      "\n",
      "Autotldr is a bot that uses SMMRY to create a TL ; DR/summary.\n",
      "\n",
      "The scenario in which this bot would create a significantly lazy atmosphere is if the tl ; dr were to be presented parallel to the main submission , in the same way the OP 's tl ; dr is presented right next to the long body of self post.\n",
      "\n",
      "It can make sophisticated topics more relevant to mainstream Reddit Sophisticated and important topics are usually accompanied or presented by long detailed articles.\n",
      "\n",
      "By making these articles and topics relevant to a larger portion of the Reddit userbase ( those who were n't willing to read the full article ) , it popularizes the topic and increases user participation.\n",
      "\n",
      "This has the potential of re-sophisticating the topic discussion in the mainstream subreddits , as more hardcore redditors do n't have to retreat to a safe haven like /r/TrueReddit.\n",
      "\n",
      "It decreases Reddit 's dependency on external sites The bot doubles as a context provider for when a submission link goes down , is removed , or inaccessible at work/school.\n",
      "\n",
      "\n"
     ]
    }
   ],
   "source": [
    "Reduce_to_percent = 20\n",
    "summary_size = int(((Reduce_to_percent)/100)*len(sentences))\n",
    "\n",
    "if summary_size == 0:\n",
    "    summary_size = 1\n",
    "\n",
    "sorted_sentence_score_indices = np.flip(np.argsort(sentence_scores),0)\n",
    "\n",
    "indices_for_summary_results = sorted_sentence_score_indices[0:summary_size]\n",
    "\n",
    "summary = \"\\n\"\n",
    "\n",
    "current_size = 0\n",
    "\n",
    "if 0 not in indices_for_summary_results and summary_size!=1:\n",
    "    summary+=sentences[0]\n",
    "    summary+=\".\\n\\n\"\n",
    "    current_size+=1\n",
    "\n",
    "\n",
    "for i in xrange(0,len(sentences)):\n",
    "    if i in indices_for_summary_results:\n",
    "        summary+=sentences[i]\n",
    "        summary+=\".\\n\\n\"\n",
    "        current_size += 1\n",
    "    if current_size == summary_size:\n",
    "        break\n",
    "\n",
    "print \"\\nSUMMARY: \"\n",
    "print summary\n"
   ]
  },
  {
   "cell_type": "code",
   "execution_count": null,
   "metadata": {},
   "outputs": [],
   "source": []
  }
 ],
 "metadata": {
  "kernelspec": {
   "display_name": "Python 2",
   "language": "python",
   "name": "python2"
  },
  "language_info": {
   "codemirror_mode": {
    "name": "ipython",
    "version": 2
   },
   "file_extension": ".py",
   "mimetype": "text/x-python",
   "name": "python",
   "nbconvert_exporter": "python",
   "pygments_lexer": "ipython2",
   "version": "2.7.12"
  }
 },
 "nbformat": 4,
 "nbformat_minor": 2
}
